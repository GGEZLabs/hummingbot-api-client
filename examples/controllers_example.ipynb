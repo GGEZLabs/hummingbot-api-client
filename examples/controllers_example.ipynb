{
 "cells": [
  {
   "metadata": {
    "ExecuteTime": {
     "end_time": "2025-07-02T22:51:55.381530Z",
     "start_time": "2025-07-02T22:51:55.337545Z"
    }
   },
   "cell_type": "code",
   "source": [
    "from hummingbot_api_client import HummingbotAPIClient\n",
    "\n",
    "client = HummingbotAPIClient(base_url='http://localhost:8000')\n",
    "await client.init()"
   ],
   "id": "714f3b0227dd570b",
   "outputs": [],
   "execution_count": 1
  },
  {
   "metadata": {
    "ExecuteTime": {
     "end_time": "2025-07-02T22:52:06.350721Z",
     "start_time": "2025-07-02T22:52:06.338544Z"
    }
   },
   "cell_type": "code",
   "source": "await client.controllers.list_controllers()",
   "id": "8760a716974c126b",
   "outputs": [
    {
     "data": {
      "text/plain": [
       "{'directional_trading': ['dman_v3',\n",
       "  'bollinger_v1',\n",
       "  'supertrend_v1',\n",
       "  'macd_bb_v1'],\n",
       " 'market_making': ['pmm_dynamic', 'dman_maker_v2', 'pmm_simple'],\n",
       " 'generic': ['xemm_multiple_levels',\n",
       "  'grid_strike',\n",
       "  'quantum_grid_allocator',\n",
       "  'pmm_adjusted',\n",
       "  'stat_arb',\n",
       "  'arbitrage_controller',\n",
       "  'pmm']}"
      ]
     },
     "execution_count": 2,
     "metadata": {},
     "output_type": "execute_result"
    }
   ],
   "execution_count": 2
  },
  {
   "metadata": {
    "ExecuteTime": {
     "end_time": "2025-07-02T22:52:14.396741Z",
     "start_time": "2025-07-02T22:52:14.370799Z"
    }
   },
   "cell_type": "code",
   "source": "await client.controllers.list_controller_configs()",
   "id": "d818455c06222922",
   "outputs": [
    {
     "data": {
      "text/plain": [
       "[{'config_name': 'sol_grid_long_fixed',\n",
       "  'controller_name': 'grid_strike',\n",
       "  'controller_type': 'generic',\n",
       "  'connector_name': 'binance_perpetual',\n",
       "  'trading_pair': 'SOL-USDT',\n",
       "  'total_amount_quote': '1000'},\n",
       " {'config_name': 'sol_tole',\n",
       "  'controller_name': 'grid_strike',\n",
       "  'controller_type': 'generic',\n",
       "  'connector_name': 'binance_perpetual',\n",
       "  'trading_pair': 'SOL-USDT',\n",
       "  'total_amount_quote': '1000'},\n",
       " {'config_name': 'sol_grid_long_v2',\n",
       "  'controller_name': 'grid_strike',\n",
       "  'controller_type': 'generic',\n",
       "  'connector_name': 'binance_perpetual',\n",
       "  'trading_pair': 'SOL-USDT',\n",
       "  'total_amount_quote': '1000'}]"
      ]
     },
     "execution_count": 3,
     "metadata": {},
     "output_type": "execute_result"
    }
   ],
   "execution_count": 3
  },
  {
   "metadata": {
    "ExecuteTime": {
     "end_time": "2025-07-02T22:52:59.264787Z",
     "start_time": "2025-07-02T22:52:59.252616Z"
    }
   },
   "cell_type": "code",
   "source": "await client.controllers.get_controller(controller_type=\"generic\", controller_name=\"grid_strike\")",
   "id": "df61cd44c209ab5f",
   "outputs": [
    {
     "data": {
      "text/plain": [
       "{'name': 'grid_strike',\n",
       " 'type': 'generic',\n",
       " 'content': 'from decimal import Decimal\\nfrom typing import List, Optional\\n\\nfrom pydantic import Field\\n\\nfrom hummingbot.core.data_type.common import MarketDict, OrderType, PositionMode, PriceType, TradeType\\nfrom hummingbot.data_feed.candles_feed.data_types import CandlesConfig\\nfrom hummingbot.strategy_v2.controllers import ControllerBase, ControllerConfigBase\\nfrom hummingbot.strategy_v2.executors.data_types import ConnectorPair\\nfrom hummingbot.strategy_v2.executors.grid_executor.data_types import GridExecutorConfig\\nfrom hummingbot.strategy_v2.executors.position_executor.data_types import TripleBarrierConfig\\nfrom hummingbot.strategy_v2.models.executor_actions import CreateExecutorAction, ExecutorAction\\nfrom hummingbot.strategy_v2.models.executors_info import ExecutorInfo\\n\\n\\nclass GridStrikeConfig(ControllerConfigBase):\\n    \"\"\"\\n    Configuration required to run the GridStrike strategy for one connector and trading pair.\\n    \"\"\"\\n    controller_type: str = \"generic\"\\n    controller_name: str = \"grid_strike\"\\n    candles_config: List[CandlesConfig] = []\\n\\n    # Account configuration\\n    leverage: int = 20\\n    position_mode: PositionMode = PositionMode.HEDGE\\n\\n    # Boundaries\\n    connector_name: str = \"binance_perpetual\"\\n    trading_pair: str = \"WLD-USDT\"\\n    side: TradeType = TradeType.BUY\\n    start_price: Decimal = Field(default=Decimal(\"0.58\"), json_schema_extra={\"is_updatable\": True})\\n    end_price: Decimal = Field(default=Decimal(\"0.95\"), json_schema_extra={\"is_updatable\": True})\\n    limit_price: Decimal = Field(default=Decimal(\"0.55\"), json_schema_extra={\"is_updatable\": True})\\n\\n    # Profiling\\n    total_amount_quote: Decimal = Field(default=Decimal(\"1000\"), json_schema_extra={\"is_updatable\": True})\\n    min_spread_between_orders: Optional[Decimal] = Field(default=Decimal(\"0.001\"), json_schema_extra={\"is_updatable\": True})\\n    min_order_amount_quote: Optional[Decimal] = Field(default=Decimal(\"5\"), json_schema_extra={\"is_updatable\": True})\\n\\n    # Execution\\n    max_open_orders: int = Field(default=2, json_schema_extra={\"is_updatable\": True})\\n    max_orders_per_batch: Optional[int] = Field(default=1, json_schema_extra={\"is_updatable\": True})\\n    order_frequency: int = Field(default=3, json_schema_extra={\"is_updatable\": True})\\n    activation_bounds: Optional[Decimal] = Field(default=None, json_schema_extra={\"is_updatable\": True})\\n    keep_position: bool = Field(default=False, json_schema_extra={\"is_updatable\": True})\\n\\n    # Risk Management\\n    triple_barrier_config: TripleBarrierConfig = TripleBarrierConfig(\\n        take_profit=Decimal(\"0.001\"),\\n        open_order_type=OrderType.LIMIT_MAKER,\\n        take_profit_order_type=OrderType.LIMIT_MAKER,\\n    )\\n\\n    def update_markets(self, markets: MarketDict) -> MarketDict:\\n        return markets.add_or_update(self.connector_name, self.trading_pair)\\n\\n\\nclass GridStrike(ControllerBase):\\n    def __init__(self, config: GridStrikeConfig, *args, **kwargs):\\n        super().__init__(config, *args, **kwargs)\\n        self.config = config\\n        self._last_grid_levels_update = 0\\n        self.trading_rules = None\\n        self.grid_levels = []\\n        self.initialize_rate_sources()\\n\\n    def initialize_rate_sources(self):\\n        self.market_data_provider.initialize_rate_sources([ConnectorPair(connector_name=self.config.connector_name,\\n                                                                         trading_pair=self.config.trading_pair)])\\n\\n    def active_executors(self) -> List[ExecutorInfo]:\\n        return [\\n            executor for executor in self.executors_info\\n            if executor.is_active\\n        ]\\n\\n    def is_inside_bounds(self, price: Decimal) -> bool:\\n        return self.config.start_price <= price <= self.config.end_price\\n\\n    def determine_executor_actions(self) -> List[ExecutorAction]:\\n        mid_price = self.market_data_provider.get_price_by_type(\\n            self.config.connector_name, self.config.trading_pair, PriceType.MidPrice)\\n        if len(self.active_executors()) == 0 and self.is_inside_bounds(mid_price):\\n            return [CreateExecutorAction(\\n                controller_id=self.config.id,\\n                executor_config=GridExecutorConfig(\\n                    timestamp=self.market_data_provider.time(),\\n                    connector_name=self.config.connector_name,\\n                    trading_pair=self.config.trading_pair,\\n                    start_price=self.config.start_price,\\n                    end_price=self.config.end_price,\\n                    leverage=self.config.leverage,\\n                    limit_price=self.config.limit_price,\\n                    side=self.config.side,\\n                    total_amount_quote=self.config.total_amount_quote,\\n                    min_spread_between_orders=self.config.min_spread_between_orders,\\n                    min_order_amount_quote=self.config.min_order_amount_quote,\\n                    max_open_orders=self.config.max_open_orders,\\n                    max_orders_per_batch=self.config.max_orders_per_batch,\\n                    order_frequency=self.config.order_frequency,\\n                    activation_bounds=self.config.activation_bounds,\\n                    triple_barrier_config=self.config.triple_barrier_config,\\n                    level_id=None,\\n                    keep_position=self.config.keep_position,\\n                ))]\\n        return []\\n\\n    async def update_processed_data(self):\\n        pass\\n\\n    def to_format_status(self) -> List[str]:\\n        status = []\\n        mid_price = self.market_data_provider.get_price_by_type(\\n            self.config.connector_name, self.config.trading_pair, PriceType.MidPrice)\\n        # Define standard box width for consistency\\n        box_width = 114\\n        # Top Grid Configuration box with simple borders\\n        status.append(\"┌\" + \"─\" * box_width + \"┐\")\\n        # First line: Grid Configuration and Mid Price\\n        left_section = \"Grid Configuration:\"\\n        padding = box_width - len(left_section) - 4  # -4 for the border characters and spacing\\n        config_line1 = f\"│ {left_section}{\\' \\' * padding}\"\\n        padding2 = box_width - len(config_line1) + 1  # +1 for correct right border alignment\\n        config_line1 += \" \" * padding2 + \"│\"\\n        status.append(config_line1)\\n        # Second line: Configuration parameters\\n        config_line2 = f\"│ Start: {self.config.start_price:.4f} │ End: {self.config.end_price:.4f} │ Side: {self.config.side} │ Limit: {self.config.limit_price:.4f} │ Mid Price: {mid_price:.4f} │\"\\n        padding = box_width - len(config_line2) + 1  # +1 for correct right border alignment\\n        config_line2 += \" \" * padding + \"│\"\\n        status.append(config_line2)\\n        # Third line: Max orders and Inside bounds\\n        config_line3 = f\"│ Max Orders: {self.config.max_open_orders}   │ Inside bounds: {1 if self.is_inside_bounds(mid_price) else 0}\"\\n        padding = box_width - len(config_line3) + 1  # +1 for correct right border alignment\\n        config_line3 += \" \" * padding + \"│\"\\n        status.append(config_line3)\\n        status.append(\"└\" + \"─\" * box_width + \"┘\")\\n        for level in self.active_executors():\\n            # Define column widths for perfect alignment\\n            col_width = box_width // 3  # Dividing the total width by 3 for equal columns\\n            total_width = box_width\\n            # Grid Status header - use long line and running status\\n            status_header = f\"Grid Status: {level.id} (RunnableStatus.RUNNING)\"\\n            status_line = f\"┌ {status_header}\" + \"─\" * (total_width - len(status_header) - 2) + \"┐\"\\n            status.append(status_line)\\n            # Calculate exact column widths for perfect alignment\\n            col1_end = col_width\\n            # Column headers\\n            header_line = \"│ Level Distribution\" + \" \" * (col1_end - 20) + \"│\"\\n            header_line += \" Order Statistics\" + \" \" * (col_width - 18) + \"│\"\\n            header_line += \" Performance Metrics\" + \" \" * (col_width - 21) + \"│\"\\n            status.append(header_line)\\n            # Data for the three columns\\n            level_dist_data = [\\n                f\"NOT_ACTIVE: {len(level.custom_info[\\'levels_by_state\\'].get(\\'NOT_ACTIVE\\', []))}\",\\n                f\"OPEN_ORDER_PLACED: {len(level.custom_info[\\'levels_by_state\\'].get(\\'OPEN_ORDER_PLACED\\', []))}\",\\n                f\"OPEN_ORDER_FILLED: {len(level.custom_info[\\'levels_by_state\\'].get(\\'OPEN_ORDER_FILLED\\', []))}\",\\n                f\"CLOSE_ORDER_PLACED: {len(level.custom_info[\\'levels_by_state\\'].get(\\'CLOSE_ORDER_PLACED\\', []))}\",\\n                f\"COMPLETE: {len(level.custom_info[\\'levels_by_state\\'].get(\\'COMPLETE\\', []))}\"\\n            ]\\n            order_stats_data = [\\n                f\"Total: {sum(len(level.custom_info[k]) for k in [\\'filled_orders\\', \\'failed_orders\\', \\'canceled_orders\\'])}\",\\n                f\"Filled: {len(level.custom_info[\\'filled_orders\\'])}\",\\n                f\"Failed: {len(level.custom_info[\\'failed_orders\\'])}\",\\n                f\"Canceled: {len(level.custom_info[\\'canceled_orders\\'])}\"\\n            ]\\n            perf_metrics_data = [\\n                f\"Buy Vol: {level.custom_info[\\'realized_buy_size_quote\\']:.4f}\",\\n                f\"Sell Vol: {level.custom_info[\\'realized_sell_size_quote\\']:.4f}\",\\n                f\"R. PnL: {level.custom_info[\\'realized_pnl_quote\\']:.4f}\",\\n                f\"R. Fees: {level.custom_info[\\'realized_fees_quote\\']:.4f}\",\\n                f\"P. PnL: {level.custom_info[\\'position_pnl_quote\\']:.4f}\",\\n                f\"Position: {level.custom_info[\\'position_size_quote\\']:.4f}\"\\n            ]\\n            # Build rows with perfect alignment\\n            max_rows = max(len(level_dist_data), len(order_stats_data), len(perf_metrics_data))\\n            for i in range(max_rows):\\n                col1 = level_dist_data[i] if i < len(level_dist_data) else \"\"\\n                col2 = order_stats_data[i] if i < len(order_stats_data) else \"\"\\n                col3 = perf_metrics_data[i] if i < len(perf_metrics_data) else \"\"\\n                row = \"│ \" + col1\\n                row += \" \" * (col1_end - len(col1) - 2)  # -2 for the \"│ \" at the start\\n                row += \"│ \" + col2\\n                row += \" \" * (col_width - len(col2) - 2)  # -2 for the \"│ \" before col2\\n                row += \"│ \" + col3\\n                row += \" \" * (col_width - len(col3) - 2)  # -2 for the \"│ \" before col3\\n                row += \"│\"\\n                status.append(row)\\n            # Liquidity line with perfect alignment\\n            status.append(\"├\" + \"─\" * total_width + \"┤\")\\n            liquidity_line = f\"│ Open Liquidity: {level.custom_info[\\'open_liquidity_placed\\']:.4f} │ Close Liquidity: {level.custom_info[\\'close_liquidity_placed\\']:.4f} │\"\\n            liquidity_line += \" \" * (total_width - len(liquidity_line) + 1)  # +1 for correct right border alignment\\n            liquidity_line += \"│\"\\n            status.append(liquidity_line)\\n            status.append(\"└\" + \"─\" * total_width + \"┘\")\\n        return status\\n'}"
      ]
     },
     "execution_count": 5,
     "metadata": {},
     "output_type": "execute_result"
    }
   ],
   "execution_count": 5
  },
  {
   "metadata": {
    "ExecuteTime": {
     "end_time": "2025-07-02T22:55:59.090762Z",
     "start_time": "2025-07-02T22:55:59.076550Z"
    }
   },
   "cell_type": "code",
   "source": [
    "config = await client.controllers.get_controller_config(\"sol_tole\")\n",
    "print(config)"
   ],
   "id": "c810566c34654ab5",
   "outputs": [
    {
     "name": "stdout",
     "output_type": "stream",
     "text": [
      "{'activation_bounds': 0.002, 'candles_config': [], 'connector_name': 'binance_perpetual', 'controller_name': 'grid_strike', 'controller_type': 'generic', 'end_price': '149', 'id': 'sol_tole', 'initial_positions': [], 'keep_position': False, 'leverage': 20, 'limit_price': '146.5', 'manual_kill_switch': False, 'max_open_orders': 3, 'max_orders_per_batch': 1, 'min_order_amount_quote': '5', 'min_spread_between_orders': '0.001', 'order_frequency': 3, 'position_mode': 'HEDGE', 'side': 1, 'start_price': '147', 'total_amount_quote': '1000', 'trading_pair': 'SOL-USDT', 'triple_barrier_config': {'open_order_type': 3, 'stop_loss': None, 'stop_loss_order_type': 1, 'take_profit': '0.0008', 'take_profit_order_type': 3, 'time_limit': None, 'time_limit_order_type': 1, 'trailing_stop': None}}\n"
     ]
    }
   ],
   "execution_count": 7
  },
  {
   "metadata": {
    "ExecuteTime": {
     "end_time": "2025-07-02T22:56:02.225664Z",
     "start_time": "2025-07-02T22:56:02.210559Z"
    }
   },
   "cell_type": "code",
   "source": "await client.controllers.create_or_update_controller_config(\"sol_tole_2\", config)",
   "id": "11e7601ef564505",
   "outputs": [
    {
     "data": {
      "text/plain": [
       "{'message': \"Configuration 'sol_tole_2' saved successfully\"}"
      ]
     },
     "execution_count": 8,
     "metadata": {},
     "output_type": "execute_result"
    }
   ],
   "execution_count": 8
  },
  {
   "metadata": {
    "ExecuteTime": {
     "end_time": "2025-07-02T22:56:11.074706Z",
     "start_time": "2025-07-02T22:56:11.050575Z"
    }
   },
   "cell_type": "code",
   "source": "await client.controllers.list_controller_configs()",
   "id": "24b2a8cd3217b3b2",
   "outputs": [
    {
     "data": {
      "text/plain": [
       "[{'config_name': 'sol_tole_2',\n",
       "  'controller_name': 'grid_strike',\n",
       "  'controller_type': 'generic',\n",
       "  'connector_name': 'binance_perpetual',\n",
       "  'trading_pair': 'SOL-USDT',\n",
       "  'total_amount_quote': '1000'},\n",
       " {'config_name': 'sol_grid_long_fixed',\n",
       "  'controller_name': 'grid_strike',\n",
       "  'controller_type': 'generic',\n",
       "  'connector_name': 'binance_perpetual',\n",
       "  'trading_pair': 'SOL-USDT',\n",
       "  'total_amount_quote': '1000'},\n",
       " {'config_name': 'sol_tole',\n",
       "  'controller_name': 'grid_strike',\n",
       "  'controller_type': 'generic',\n",
       "  'connector_name': 'binance_perpetual',\n",
       "  'trading_pair': 'SOL-USDT',\n",
       "  'total_amount_quote': '1000'},\n",
       " {'config_name': 'sol_grid_long_v2',\n",
       "  'controller_name': 'grid_strike',\n",
       "  'controller_type': 'generic',\n",
       "  'connector_name': 'binance_perpetual',\n",
       "  'trading_pair': 'SOL-USDT',\n",
       "  'total_amount_quote': '1000'}]"
      ]
     },
     "execution_count": 9,
     "metadata": {},
     "output_type": "execute_result"
    }
   ],
   "execution_count": 9
  },
  {
   "metadata": {
    "ExecuteTime": {
     "end_time": "2025-07-02T22:56:26.358796Z",
     "start_time": "2025-07-02T22:56:26.348116Z"
    }
   },
   "cell_type": "code",
   "source": "await client.controllers.delete_controller_config(\"sol_tole_2\")",
   "id": "3dd6f03f132f7774",
   "outputs": [
    {
     "data": {
      "text/plain": [
       "{'message': \"Configuration 'sol_tole_2' deleted successfully\"}"
      ]
     },
     "execution_count": 10,
     "metadata": {},
     "output_type": "execute_result"
    }
   ],
   "execution_count": 10
  },
  {
   "metadata": {
    "ExecuteTime": {
     "end_time": "2025-07-02T22:56:33.195795Z",
     "start_time": "2025-07-02T22:56:33.171031Z"
    }
   },
   "cell_type": "code",
   "source": "await client.controllers.list_controller_configs()",
   "id": "6b2a561d8538eb48",
   "outputs": [
    {
     "data": {
      "text/plain": [
       "[{'config_name': 'sol_grid_long_fixed',\n",
       "  'controller_name': 'grid_strike',\n",
       "  'controller_type': 'generic',\n",
       "  'connector_name': 'binance_perpetual',\n",
       "  'trading_pair': 'SOL-USDT',\n",
       "  'total_amount_quote': '1000'},\n",
       " {'config_name': 'sol_tole',\n",
       "  'controller_name': 'grid_strike',\n",
       "  'controller_type': 'generic',\n",
       "  'connector_name': 'binance_perpetual',\n",
       "  'trading_pair': 'SOL-USDT',\n",
       "  'total_amount_quote': '1000'},\n",
       " {'config_name': 'sol_grid_long_v2',\n",
       "  'controller_name': 'grid_strike',\n",
       "  'controller_type': 'generic',\n",
       "  'connector_name': 'binance_perpetual',\n",
       "  'trading_pair': 'SOL-USDT',\n",
       "  'total_amount_quote': '1000'}]"
      ]
     },
     "execution_count": 11,
     "metadata": {},
     "output_type": "execute_result"
    }
   ],
   "execution_count": 11
  },
  {
   "metadata": {},
   "cell_type": "code",
   "outputs": [],
   "execution_count": null,
   "source": "",
   "id": "a87d4ad620849afa"
  }
 ],
 "metadata": {
  "kernelspec": {
   "display_name": "Python 3",
   "language": "python",
   "name": "python3"
  },
  "language_info": {
   "codemirror_mode": {
    "name": "ipython",
    "version": 2
   },
   "file_extension": ".py",
   "mimetype": "text/x-python",
   "name": "python",
   "nbconvert_exporter": "python",
   "pygments_lexer": "ipython2",
   "version": "2.7.6"
  }
 },
 "nbformat": 4,
 "nbformat_minor": 5
}
