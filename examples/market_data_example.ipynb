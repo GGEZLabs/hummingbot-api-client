{
 "cells": [
  {
   "cell_type": "code",
   "id": "initial_id",
   "metadata": {
    "collapsed": true,
    "ExecuteTime": {
     "end_time": "2025-07-17T19:12:45.732758Z",
     "start_time": "2025-07-17T19:12:45.667618Z"
    }
   },
   "source": [
    "from hummingbot_api_client import HummingbotAPIClient\n",
    "\n",
    "client = HummingbotAPIClient(base_url='http://localhost:8000')\n",
    "await client.init()"
   ],
   "outputs": [],
   "execution_count": 1
  },
  {
   "metadata": {
    "ExecuteTime": {
     "end_time": "2025-07-17T19:14:22.941456Z",
     "start_time": "2025-07-17T19:14:22.927687Z"
    }
   },
   "cell_type": "code",
   "source": [
    "candles = await client.market_data.get_candles(\n",
    "    connector_name=\"binance_perpetual\",\n",
    "    trading_pair=\"ERA-USDT\",\n",
    "    interval=\"1m\",\n",
    "    max_records=60,\n",
    ")"
   ],
   "id": "78094ff0440629c1",
   "outputs": [],
   "execution_count": 5
  },
  {
   "metadata": {
    "ExecuteTime": {
     "end_time": "2025-07-17T19:07:03.852650Z",
     "start_time": "2025-07-17T19:07:03.837414Z"
    }
   },
   "cell_type": "code",
   "source": "await client.market_data.get_active_feeds()",
   "id": "91ab39bf8e829a9e",
   "outputs": [
    {
     "data": {
      "text/plain": [
       "{'candles_binance_perpetual_ERA-USDT_1m': {'feed_type': 'candles',\n",
       "  'last_access_time': 1752779223.6744921,\n",
       "  'seconds_since_access': 0.1746203899383545,\n",
       "  'will_expire_in': 599.8253796100616,\n",
       "  'config': \"connector='binance_perpetual' trading_pair='ERA-USDT' interval='1m' max_records=60\"}}"
      ]
     },
     "execution_count": 11,
     "metadata": {},
     "output_type": "execute_result"
    }
   ],
   "execution_count": 11
  },
  {
   "metadata": {},
   "cell_type": "code",
   "source": [
    "await client.market_data.get_funding_info(\n",
    "    connector=\"binance_perpetual\",\n",
    "    trading_pair=\"BTC-USDT\",\n",
    ")"
   ],
   "id": "70c9323428e5cc51",
   "outputs": [],
   "execution_count": null
  },
  {
   "metadata": {},
   "cell_type": "code",
   "source": [
    "import datetime\n",
    "\n",
    "await client.market_data.get_historical_candles(\n",
    "    connector=\"binance_perpetual\",\n",
    "    trading_pair=\"BTC-USDT\",\n",
    "    interval=\"1m\",\n",
    "    start_time=datetime.datetime(2024, 6, 1).timestamp(),\n",
    "    end_time=datetime.datetime(2024, 8, 1).timestamp(),\n",
    ")"
   ],
   "id": "7b0f88fa2b7aa92c",
   "outputs": [],
   "execution_count": null
  },
  {
   "metadata": {},
   "cell_type": "code",
   "source": "await client.market_data.get_order_book(connector=\"binance_perpetual\", trading_pair=\"BTC-USDT\")",
   "id": "56ea2f2ad1f163bf",
   "outputs": [],
   "execution_count": null
  },
  {
   "metadata": {},
   "cell_type": "code",
   "source": "await client.market_data.get_price_for_quote_volume(connector=\"binance_perpetual\", trading_pair=\"BTC-USDT\", quote_volume=100, is_buy=True)",
   "id": "6153c60facad31f1",
   "outputs": [],
   "execution_count": null
  },
  {
   "metadata": {},
   "cell_type": "code",
   "source": "await client.market_data.get_prices(connector=\"binance_perpetual\", trading_pairs=[\"BTC-USDT\", \"ETH-USDT\", \"SOL-USDT\"])",
   "id": "f27ed90f9ab6a210",
   "outputs": [],
   "execution_count": null
  },
  {
   "metadata": {},
   "cell_type": "code",
   "source": "await client.market_data.get_candles_last_days(connector=\"binance_perpetual\", trading_pair=\"BTC-USDT\", interval=\"1m\", days=10)",
   "id": "46a05dd0e60f4a44",
   "outputs": [],
   "execution_count": null
  }
 ],
 "metadata": {
  "kernelspec": {
   "display_name": "Python 3",
   "language": "python",
   "name": "python3"
  },
  "language_info": {
   "codemirror_mode": {
    "name": "ipython",
    "version": 2
   },
   "file_extension": ".py",
   "mimetype": "text/x-python",
   "name": "python",
   "nbconvert_exporter": "python",
   "pygments_lexer": "ipython2",
   "version": "2.7.6"
  }
 },
 "nbformat": 4,
 "nbformat_minor": 5
}
