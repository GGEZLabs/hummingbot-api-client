{
 "cells": [
  {
   "cell_type": "code",
   "id": "initial_id",
   "metadata": {
    "collapsed": true
   },
   "source": [
    "from hummingbot_api_client import HummingbotAPIClient\n",
    "\n",
    "client = HummingbotAPIClient(base_url='http://localhost:8000')\n",
    "await client.init()"
   ],
   "outputs": [],
   "execution_count": null
  },
  {
   "metadata": {},
   "cell_type": "code",
   "source": [
    "await client.market_data.get_candles(\n",
    "    connector=\"binance_perpetual\",\n",
    "    trading_pair=\"BTC-USDT\",\n",
    "    interval=\"1m\",\n",
    "    max_records=100,\n",
    ")"
   ],
   "id": "78094ff0440629c1",
   "outputs": [],
   "execution_count": null
  },
  {
   "metadata": {},
   "cell_type": "code",
   "source": "await client.market_data.get_active_feeds()",
   "id": "91ab39bf8e829a9e",
   "outputs": [],
   "execution_count": null
  },
  {
   "metadata": {},
   "cell_type": "code",
   "source": [
    "await client.market_data.get_funding_info(\n",
    "    connector=\"binance_perpetual\",\n",
    "    trading_pair=\"BTC-USDT\",\n",
    ")"
   ],
   "id": "70c9323428e5cc51",
   "outputs": [],
   "execution_count": null
  },
  {
   "metadata": {},
   "cell_type": "code",
   "source": [
    "import datetime\n",
    "\n",
    "await client.market_data.get_historical_candles(\n",
    "    connector=\"binance_perpetual\",\n",
    "    trading_pair=\"BTC-USDT\",\n",
    "    interval=\"1m\",\n",
    "    start_time=datetime.datetime(2024, 6, 1).timestamp(),\n",
    "    end_time=datetime.datetime(2024, 8, 1).timestamp(),\n",
    ")"
   ],
   "id": "7b0f88fa2b7aa92c",
   "outputs": [],
   "execution_count": null
  },
  {
   "metadata": {},
   "cell_type": "code",
   "source": "await client.market_data.get_order_book(connector=\"binance_perpetual\", trading_pair=\"BTC-USDT\")",
   "id": "56ea2f2ad1f163bf",
   "outputs": [],
   "execution_count": null
  },
  {
   "metadata": {},
   "cell_type": "code",
   "source": "await client.market_data.get_price_for_quote_volume(connector=\"binance_perpetual\", trading_pair=\"BTC-USDT\", quote_volume=100, is_buy=True)",
   "id": "6153c60facad31f1",
   "outputs": [],
   "execution_count": null
  },
  {
   "metadata": {},
   "cell_type": "code",
   "source": "await client.market_data.get_prices(connector=\"binance_perpetual\", trading_pairs=[\"BTC-USDT\", \"ETH-USDT\", \"SOL-USDT\"])",
   "id": "f27ed90f9ab6a210",
   "outputs": [],
   "execution_count": null
  },
  {
   "metadata": {},
   "cell_type": "code",
   "source": "await client.market_data.get_candles_last_days(connector=\"binance_perpetual\", trading_pair=\"BTC-USDT\", interval=\"1m\", days=10)",
   "id": "46a05dd0e60f4a44",
   "outputs": [],
   "execution_count": null
  }
 ],
 "metadata": {
  "kernelspec": {
   "display_name": "Python 3",
   "language": "python",
   "name": "python3"
  },
  "language_info": {
   "codemirror_mode": {
    "name": "ipython",
    "version": 2
   },
   "file_extension": ".py",
   "mimetype": "text/x-python",
   "name": "python",
   "nbconvert_exporter": "python",
   "pygments_lexer": "ipython2",
   "version": "2.7.6"
  }
 },
 "nbformat": 4,
 "nbformat_minor": 5
}
