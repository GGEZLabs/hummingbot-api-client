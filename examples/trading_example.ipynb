{
 "cells": [
  {
   "cell_type": "code",
   "id": "initial_id",
   "metadata": {
    "collapsed": true
   },
   "source": [
    "from hummingbot_api_client import HummingbotAPIClient\n",
    "\n",
    "client = HummingbotAPIClient(base_url='http://localhost:8000')\n",
    "await client.init()"
   ],
   "outputs": [],
   "execution_count": null
  },
  {
   "metadata": {},
   "cell_type": "code",
   "source": "await client.portfolio.get_state(account_names=[\"master_account\"], connector_names=[\"binance_perpetual\"])",
   "id": "d45a5c7ac3b85af2",
   "outputs": [],
   "execution_count": null
  },
  {
   "metadata": {},
   "cell_type": "code",
   "source": "await client.trading.set_position_mode(account_name=\"master_account\", connector_name=\"binance_perpetual\", position_mode=\"HEDGE\")",
   "id": "ab6938feb99f82ee",
   "outputs": [],
   "execution_count": null
  },
  {
   "metadata": {},
   "cell_type": "code",
   "source": "await client.trading.get_position_mode(account_name=\"master_account\", connector_name=\"binance_perpetual\")",
   "id": "bfc0b96399ea7b68",
   "outputs": [],
   "execution_count": null
  },
  {
   "metadata": {},
   "cell_type": "code",
   "source": "await client.trading.set_leverage(account_name=\"master_account\", connector_name=\"binance_perpetual\", trading_pair=\"ETH-USDT\", leverage=100)",
   "id": "1ad04cd60a7e5f02",
   "outputs": [],
   "execution_count": null
  },
  {
   "metadata": {},
   "cell_type": "code",
   "source": [
    "await client.trading.place_order(\n",
    "    account_name=\"master_account\",\n",
    "    connector_name=\"binance_perpetual\",\n",
    "    trading_pair=\"ETH-USDT\",\n",
    "    side=\"BUY\",\n",
    "    order_type=\"MARKET\",\n",
    "    amount=0.1,\n",
    "    position_action=\"OPEN\",\n",
    ")"
   ],
   "id": "806c73b8fa0b40f8",
   "outputs": [],
   "execution_count": null
  },
  {
   "metadata": {},
   "cell_type": "code",
   "source": "await client.trading.get_positions()",
   "id": "a767d30eee366f37",
   "outputs": [],
   "execution_count": null
  },
  {
   "metadata": {},
   "cell_type": "code",
   "source": [
    "await client.trading.place_order(\n",
    "    account_name=\"master_account\",\n",
    "    connector_name=\"binance_perpetual\",\n",
    "    trading_pair=\"ETH-USDT\",\n",
    "    side=\"SELL\",\n",
    "    order_type=\"MARKET\",\n",
    "    amount=0.1,\n",
    "    position_action=\"CLOSE\",\n",
    ")"
   ],
   "id": "5497e2ec44a29749",
   "outputs": [],
   "execution_count": null
  },
  {
   "metadata": {},
   "cell_type": "code",
   "source": "await client.trading.get_positions()",
   "id": "a30b14944b2df0c5",
   "outputs": [],
   "execution_count": null
  },
  {
   "metadata": {},
   "cell_type": "code",
   "source": [
    "await client.trading.place_order(\n",
    "    account_name=\"master_account\",\n",
    "    connector_name=\"binance_perpetual\",\n",
    "    trading_pair=\"ETH-USDT\",\n",
    "    side=\"BUY\",\n",
    "    order_type=\"LIMIT\",\n",
    "    price=2550,\n",
    "    amount=0.1,\n",
    "    position_action=\"OPEN\",\n",
    ")"
   ],
   "id": "de9b06b1e948de75",
   "outputs": [],
   "execution_count": null
  },
  {
   "metadata": {},
   "cell_type": "code",
   "source": [
    "orders = await client.trading.get_active_orders()\n",
    "print(orders)"
   ],
   "id": "588419f11928308b",
   "outputs": [],
   "execution_count": null
  },
  {
   "metadata": {},
   "cell_type": "code",
   "source": [
    "await client.trading.cancel_order(\n",
    "    account_name=orders[\"data\"][0][\"account_name\"],\n",
    "    connector_name=orders[\"data\"][0][\"connector_name\"],\n",
    "    client_order_id=orders[\"data\"][0][\"client_order_id\"])"
   ],
   "id": "80028fb6b32ff691",
   "outputs": [],
   "execution_count": null
  },
  {
   "metadata": {},
   "cell_type": "code",
   "source": "",
   "id": "f7460cbd38be61b9",
   "outputs": [],
   "execution_count": null
  }
 ],
 "metadata": {
  "kernelspec": {
   "display_name": "Python 3",
   "language": "python",
   "name": "python3"
  },
  "language_info": {
   "codemirror_mode": {
    "name": "ipython",
    "version": 2
   },
   "file_extension": ".py",
   "mimetype": "text/x-python",
   "name": "python",
   "nbconvert_exporter": "python",
   "pygments_lexer": "ipython2",
   "version": "2.7.6"
  }
 },
 "nbformat": 4,
 "nbformat_minor": 5
}
