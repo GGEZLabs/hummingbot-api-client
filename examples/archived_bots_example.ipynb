{
 "cells": [
  {
   "cell_type": "code",
   "id": "initial_id",
   "metadata": {
    "collapsed": true
   },
   "source": [
    "from hummingbot_api_client import HummingbotAPIClient\n",
    "\n",
    "client = HummingbotAPIClient(base_url='http://localhost:8000')\n",
    "await client.init()"
   ],
   "outputs": [],
   "execution_count": null
  },
  {
   "metadata": {},
   "cell_type": "code",
   "source": [
    "dbs = await client.archived_bots.list_databases()\n",
    "print(dbs)"
   ],
   "id": "d5bcbd7d5f6cde4",
   "outputs": [],
   "execution_count": null
  },
  {
   "metadata": {},
   "cell_type": "code",
   "source": "await client.archived_bots.get_database_status(dbs[1])",
   "id": "a4c57264d7b59fe4",
   "outputs": [],
   "execution_count": null
  },
  {
   "metadata": {},
   "cell_type": "code",
   "source": "await client.archived_bots.get_database_performance(dbs[1])",
   "id": "8b9d5b3b4066fa4d",
   "outputs": [],
   "execution_count": null
  },
  {
   "metadata": {},
   "cell_type": "code",
   "source": "await client.archived_bots.get_database_trades(dbs[1])",
   "id": "c55ed77e9cc29147",
   "outputs": [],
   "execution_count": null
  },
  {
   "metadata": {},
   "cell_type": "code",
   "source": "await client.archived_bots.get_database_orders(dbs[1])",
   "id": "c0c326656629464a",
   "outputs": [],
   "execution_count": null
  },
  {
   "metadata": {},
   "cell_type": "code",
   "source": "await client.archived_bots.get_database_executors(dbs[1])",
   "id": "1e684e477770586c",
   "outputs": [],
   "execution_count": null
  },
  {
   "metadata": {},
   "cell_type": "code",
   "source": "await client.archived_bots.get_database_performance(dbs[1])",
   "id": "442a043638e3aad4",
   "outputs": [],
   "execution_count": null
  },
  {
   "metadata": {},
   "cell_type": "code",
   "source": "await client.archived_bots.get_database_positions(dbs[1])",
   "id": "ce093046ddb4afe4",
   "outputs": [],
   "execution_count": null
  },
  {
   "metadata": {},
   "cell_type": "code",
   "source": "await client.archived_bots.get_database_controllers(dbs[1]  )",
   "id": "964d0345b1052c21",
   "outputs": [],
   "execution_count": null
  }
 ],
 "metadata": {
  "kernelspec": {
   "display_name": "Python 3",
   "language": "python",
   "name": "python3"
  },
  "language_info": {
   "codemirror_mode": {
    "name": "ipython",
    "version": 2
   },
   "file_extension": ".py",
   "mimetype": "text/x-python",
   "name": "python",
   "nbconvert_exporter": "python",
   "pygments_lexer": "ipython2",
   "version": "2.7.6"
  }
 },
 "nbformat": 4,
 "nbformat_minor": 5
}
