{
 "cells": [
  {
   "cell_type": "code",
   "id": "initial_id",
   "metadata": {
    "collapsed": true,
    "ExecuteTime": {
     "end_time": "2025-07-02T18:01:03.828487Z",
     "start_time": "2025-07-02T18:01:03.765088Z"
    }
   },
   "source": [
    "from hummingbot_api_client import HummingbotAPIClient\n",
    "\n",
    "client = HummingbotAPIClient(base_url='http://localhost:8000')\n",
    "await client.init()"
   ],
   "outputs": [],
   "execution_count": 1
  },
  {
   "metadata": {
    "ExecuteTime": {
     "end_time": "2025-07-02T18:07:58.322419Z",
     "start_time": "2025-07-02T18:07:58.267370Z"
    }
   },
   "cell_type": "code",
   "source": "await client.docker.is_running()",
   "id": "40fa4a4cea84db8d",
   "outputs": [
    {
     "data": {
      "text/plain": [
       "True"
      ]
     },
     "execution_count": 2,
     "metadata": {},
     "output_type": "execute_result"
    }
   ],
   "execution_count": 2
  },
  {
   "metadata": {
    "ExecuteTime": {
     "end_time": "2025-07-02T18:08:58.749841Z",
     "start_time": "2025-07-02T18:08:57.400283Z"
    }
   },
   "cell_type": "code",
   "source": "await client.docker.get_available_images(image_name=\"hummingbot\")",
   "id": "3bd197c3fb209429",
   "outputs": [
    {
     "data": {
      "text/plain": [
       "['dardonacci/hummingbot:latest',\n",
       " 'hummingbot/hummingbot:latest',\n",
       " 'hummingbot/backend-api:latest',\n",
       " 'hummingbot/dashboard:latest',\n",
       " 'hummingbot/quants-lab:latest',\n",
       " 'hummingbot/gateway:latest']"
      ]
     },
     "execution_count": 4,
     "metadata": {},
     "output_type": "execute_result"
    }
   ],
   "execution_count": 4
  },
  {
   "metadata": {
    "ExecuteTime": {
     "end_time": "2025-07-02T18:19:09.767976Z",
     "start_time": "2025-07-02T18:19:09.693076Z"
    }
   },
   "cell_type": "code",
   "source": "await client.docker.get_active_containers()",
   "id": "6c3a7e2180210267",
   "outputs": [
    {
     "data": {
      "text/plain": [
       "[{'id': '7d5c5377b73200e932c8cb92eb26f6796be1af15bf7b6e0d86883d2fcbb3da7d',\n",
       "  'name': 'backend-postgres',\n",
       "  'status': 'running',\n",
       "  'image': 'postgres:15'},\n",
       " {'id': 'abde9a075e68036a43c8b77fda2bb8e19b0bd6247af422ab1a3d22f97797a760',\n",
       "  'name': 'hummingbot-broker',\n",
       "  'status': 'running',\n",
       "  'image': 'emqx:5'}]"
      ]
     },
     "execution_count": 5,
     "metadata": {},
     "output_type": "execute_result"
    }
   ],
   "execution_count": 5
  }
 ],
 "metadata": {
  "kernelspec": {
   "display_name": "Python 3",
   "language": "python",
   "name": "python3"
  },
  "language_info": {
   "codemirror_mode": {
    "name": "ipython",
    "version": 2
   },
   "file_extension": ".py",
   "mimetype": "text/x-python",
   "name": "python",
   "nbconvert_exporter": "python",
   "pygments_lexer": "ipython2",
   "version": "2.7.6"
  }
 },
 "nbformat": 4,
 "nbformat_minor": 5
}
