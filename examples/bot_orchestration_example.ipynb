{
 "cells": [
  {
   "cell_type": "code",
   "id": "initial_id",
   "metadata": {
    "collapsed": true,
    "ExecuteTime": {
     "end_time": "2025-07-02T23:02:30.965956Z",
     "start_time": "2025-07-02T23:02:30.908726Z"
    }
   },
   "source": [
    "from hummingbot_api_client import HummingbotAPIClient\n",
    "\n",
    "client = HummingbotAPIClient(base_url='http://localhost:8000')\n",
    "await client.init()"
   ],
   "outputs": [],
   "execution_count": 1
  },
  {
   "metadata": {
    "ExecuteTime": {
     "end_time": "2025-07-02T23:02:31.833354Z",
     "start_time": "2025-07-02T23:02:31.822691Z"
    }
   },
   "cell_type": "code",
   "source": "await client.bot_orchestration.get_active_bots_status()",
   "id": "e033ae68635b9f99",
   "outputs": [
    {
     "data": {
      "text/plain": [
       "{'status': 'success', 'data': {}}"
      ]
     },
     "execution_count": 2,
     "metadata": {},
     "output_type": "execute_result"
    }
   ],
   "execution_count": 2
  },
  {
   "metadata": {
    "ExecuteTime": {
     "end_time": "2025-07-02T23:04:29.348070Z",
     "start_time": "2025-07-02T23:04:29.167557Z"
    }
   },
   "cell_type": "code",
   "source": [
    "await client.bot_orchestration.deploy_v2_controllers(\n",
    "    instance_name=\"test\",\n",
    "    credentials_profile=\"master_account\",\n",
    "    controllers_config=[\"sol_tole.yml\"],\n",
    "    image=\"dardonacci/hummingbot\"\n",
    ")"
   ],
   "id": "b743d119acc1c478",
   "outputs": [
    {
     "data": {
      "text/plain": [
       "{'success': True,\n",
       " 'message': 'Instance test created successfully.',\n",
       " 'script_config_generated': 'test-20250703-010429.yml',\n",
       " 'controllers_deployed': ['sol_tole.yml']}"
      ]
     },
     "execution_count": 3,
     "metadata": {},
     "output_type": "execute_result"
    }
   ],
   "execution_count": 3
  },
  {
   "metadata": {
    "ExecuteTime": {
     "end_time": "2025-07-02T23:07:58.274442Z",
     "start_time": "2025-07-02T23:07:58.257229Z"
    }
   },
   "cell_type": "code",
   "source": "await client.bot_orchestration.get_active_bots_status()",
   "id": "d52e697859f3ca20",
   "outputs": [
    {
     "data": {
      "text/plain": [
       "{'status': 'success',\n",
       " 'data': {'test': {'status': 'running',\n",
       "   'performance': {'sol_tole': {'status': 'running',\n",
       "     'performance': {'realized_pnl_quote': 0.0,\n",
       "      'unrealized_pnl_quote': 0.0,\n",
       "      'unrealized_pnl_pct': 0.0,\n",
       "      'realized_pnl_pct': 0.0,\n",
       "      'global_pnl_quote': 0.0,\n",
       "      'global_pnl_pct': 0.0,\n",
       "      'volume_traded': 0.0,\n",
       "      'positions_summary': [],\n",
       "      'close_type_counts': {}}}},\n",
       "   'error_logs': [],\n",
       "   'general_logs': [{'level_name': 'INFO',\n",
       "     'msg': 'Starting Node <hbot.test>',\n",
       "     'timestamp': 1751497471.2640073,\n",
       "     'level_no': 20,\n",
       "     'logger_name': 'hummingbot.remote_iface.mqtt'},\n",
       "    {'level_name': 'WARNING',\n",
       "     'msg': 'binance_perpetual is not ready. Please wait...',\n",
       "     'timestamp': 1751497472.0026433,\n",
       "     'level_no': 30,\n",
       "     'logger_name': 'hummingbot.strategy.script_strategy_base'},\n",
       "    {'level_name': 'WARNING',\n",
       "     'msg': 'binance_perpetual is not ready. Please wait...',\n",
       "     'timestamp': 1751497472.0026433,\n",
       "     'level_no': 30,\n",
       "     'logger_name': 'hummingbot.strategy.script_strategy_base'},\n",
       "    {'level_name': 'INFO',\n",
       "     'msg': 'MQTT Bridge connected with success.',\n",
       "     'timestamp': 1751497472.270623,\n",
       "     'level_no': 20,\n",
       "     'logger_name': 'hummingbot.client.hummingbot_application'},\n",
       "    {'level_name': 'INFO',\n",
       "     'msg': 'MQTT Bridge connected with success.',\n",
       "     'timestamp': 1751497472.270623,\n",
       "     'level_no': 20,\n",
       "     'logger_name': 'hummingbot.client.hummingbot_application'},\n",
       "    {'level_name': 'WARNING',\n",
       "     'msg': 'binance_perpetual is not ready. Please wait...',\n",
       "     'timestamp': 1751497473.0030508,\n",
       "     'level_no': 30,\n",
       "     'logger_name': 'hummingbot.strategy.script_strategy_base'},\n",
       "    {'level_name': 'WARNING',\n",
       "     'msg': 'binance_perpetual is not ready. Please wait...',\n",
       "     'timestamp': 1751497473.0030508,\n",
       "     'level_no': 30,\n",
       "     'logger_name': 'hummingbot.strategy.script_strategy_base'},\n",
       "    {'level_name': 'INFO',\n",
       "     'msg': 'Network status has changed to NetworkStatus.CONNECTED. Starting networking...',\n",
       "     'timestamp': 1751497473.2540326,\n",
       "     'level_no': 20,\n",
       "     'logger_name': 'hummingbot.core.rate_oracle.rate_oracle'},\n",
       "    {'level_name': 'INFO',\n",
       "     'msg': 'Network status has changed to NetworkStatus.CONNECTED. Starting networking...',\n",
       "     'timestamp': 1751497473.2540326,\n",
       "     'level_no': 20,\n",
       "     'logger_name': 'hummingbot.core.rate_oracle.rate_oracle'},\n",
       "    {'level_name': 'WARNING',\n",
       "     'msg': 'binance_perpetual is not ready. Please wait...',\n",
       "     'timestamp': 1751497474.0020335,\n",
       "     'level_no': 30,\n",
       "     'logger_name': 'hummingbot.strategy.script_strategy_base'},\n",
       "    {'level_name': 'WARNING',\n",
       "     'msg': 'binance_perpetual is not ready. Please wait...',\n",
       "     'timestamp': 1751497474.0020335,\n",
       "     'level_no': 30,\n",
       "     'logger_name': 'hummingbot.strategy.script_strategy_base'},\n",
       "    {'level_name': 'INFO',\n",
       "     'msg': 'Network status has changed to NetworkStatus.CONNECTED. Starting networking...',\n",
       "     'timestamp': 1751497474.7572267,\n",
       "     'level_no': 20,\n",
       "     'logger_name': 'hummingbot.connector.derivative.binance_perpetual.binance_perpetual_derivative.BinancePerpetualDerivative'},\n",
       "    {'level_name': 'INFO',\n",
       "     'msg': 'Network status has changed to NetworkStatus.CONNECTED. Starting networking...',\n",
       "     'timestamp': 1751497474.7572267,\n",
       "     'level_no': 20,\n",
       "     'logger_name': 'hummingbot.connector.derivative.binance_perpetual.binance_perpetual_derivative.BinancePerpetualDerivative'},\n",
       "    {'level_name': 'INFO',\n",
       "     'msg': 'Starting listen key management task...',\n",
       "     'timestamp': 1751497474.7586935,\n",
       "     'level_no': 20,\n",
       "     'logger_name': 'hummingbot.connector.derivative.binance_perpetual.binance_perpetual_user_stream_data_source.BinancePerpetualUserStreamDataSource'},\n",
       "    {'level_name': 'INFO',\n",
       "     'msg': 'Starting listen key management task...',\n",
       "     'timestamp': 1751497474.7586935,\n",
       "     'level_no': 20,\n",
       "     'logger_name': 'hummingbot.connector.derivative.binance_perpetual.binance_perpetual_user_stream_data_source.BinancePerpetualUserStreamDataSource'},\n",
       "    {'level_name': 'WARNING',\n",
       "     'msg': 'binance_perpetual is not ready. Please wait...',\n",
       "     'timestamp': 1751497475.0019336,\n",
       "     'level_no': 30,\n",
       "     'logger_name': 'hummingbot.strategy.script_strategy_base'},\n",
       "    {'level_name': 'WARNING',\n",
       "     'msg': 'binance_perpetual is not ready. Please wait...',\n",
       "     'timestamp': 1751497475.0019336,\n",
       "     'level_no': 30,\n",
       "     'logger_name': 'hummingbot.strategy.script_strategy_base'},\n",
       "    {'level_name': 'INFO',\n",
       "     'msg': 'Successfully obtained listen key WwoEpskexCE2QnLkXWruOUMcmdJc9LjYT2djRE1IoZj7p2LMhWRicXrzvt96wjRm',\n",
       "     'timestamp': 1751497475.8245356,\n",
       "     'level_no': 20,\n",
       "     'logger_name': 'hummingbot.connector.derivative.binance_perpetual.binance_perpetual_user_stream_data_source.BinancePerpetualUserStreamDataSource'},\n",
       "    {'level_name': 'INFO',\n",
       "     'msg': 'Successfully obtained listen key WwoEpskexCE2QnLkXWruOUMcmdJc9LjYT2djRE1IoZj7p2LMhWRicXrzvt96wjRm',\n",
       "     'timestamp': 1751497475.8245356,\n",
       "     'level_no': 20,\n",
       "     'logger_name': 'hummingbot.connector.derivative.binance_perpetual.binance_perpetual_user_stream_data_source.BinancePerpetualUserStreamDataSource'},\n",
       "    {'level_name': 'INFO',\n",
       "     'msg': 'Connecting to user stream with listen key WwoEpskexCE2QnLkXWruOUMcmdJc9LjYT2djRE1IoZj7p2LMhWRicXrzvt96wjRm',\n",
       "     'timestamp': 1751497475.8251264,\n",
       "     'level_no': 20,\n",
       "     'logger_name': 'hummingbot.connector.derivative.binance_perpetual.binance_perpetual_user_stream_data_source.BinancePerpetualUserStreamDataSource'},\n",
       "    {'level_name': 'INFO',\n",
       "     'msg': 'Connecting to user stream with listen key WwoEpskexCE2QnLkXWruOUMcmdJc9LjYT2djRE1IoZj7p2LMhWRicXrzvt96wjRm',\n",
       "     'timestamp': 1751497475.8251264,\n",
       "     'level_no': 20,\n",
       "     'logger_name': 'hummingbot.connector.derivative.binance_perpetual.binance_perpetual_user_stream_data_source.BinancePerpetualUserStreamDataSource'},\n",
       "    {'level_name': 'WARNING',\n",
       "     'msg': 'binance_perpetual is not ready. Please wait...',\n",
       "     'timestamp': 1751497476.0033596,\n",
       "     'level_no': 30,\n",
       "     'logger_name': 'hummingbot.strategy.script_strategy_base'},\n",
       "    {'level_name': 'WARNING',\n",
       "     'msg': 'binance_perpetual is not ready. Please wait...',\n",
       "     'timestamp': 1751497476.0033596,\n",
       "     'level_no': 30,\n",
       "     'logger_name': 'hummingbot.strategy.script_strategy_base'},\n",
       "    {'level_name': 'INFO',\n",
       "     'msg': 'Leverage for SOL-USDT successfully set to 20.',\n",
       "     'timestamp': 1751497476.1791158,\n",
       "     'level_no': 20,\n",
       "     'logger_name': 'hummingbot.connector.derivative.binance_perpetual.binance_perpetual_derivative.BinancePerpetualDerivative'},\n",
       "    {'level_name': 'INFO',\n",
       "     'msg': 'Leverage for SOL-USDT successfully set to 20.',\n",
       "     'timestamp': 1751497476.1791158,\n",
       "     'level_no': 20,\n",
       "     'logger_name': 'hummingbot.connector.derivative.binance_perpetual.binance_perpetual_derivative.BinancePerpetualDerivative'},\n",
       "    {'level_name': 'INFO',\n",
       "     'msg': 'Initialized order book for SOL-USDT. 1/1 completed.',\n",
       "     'timestamp': 1751497476.194459,\n",
       "     'level_no': 20,\n",
       "     'logger_name': 'hummingbot.core.data_type.order_book_tracker'},\n",
       "    {'level_name': 'INFO',\n",
       "     'msg': 'Initialized order book for SOL-USDT. 1/1 completed.',\n",
       "     'timestamp': 1751497476.194459,\n",
       "     'level_no': 20,\n",
       "     'logger_name': 'hummingbot.core.data_type.order_book_tracker'},\n",
       "    {'level_name': 'INFO',\n",
       "     'msg': 'Successfully connected to user stream',\n",
       "     'timestamp': 1751497476.8912086,\n",
       "     'level_no': 20,\n",
       "     'logger_name': 'hummingbot.connector.derivative.binance_perpetual.binance_perpetual_user_stream_data_source.BinancePerpetualUserStreamDataSource'},\n",
       "    {'level_name': 'INFO',\n",
       "     'msg': 'Successfully connected to user stream',\n",
       "     'timestamp': 1751497476.8912086,\n",
       "     'level_no': 20,\n",
       "     'logger_name': 'hummingbot.connector.derivative.binance_perpetual.binance_perpetual_user_stream_data_source.BinancePerpetualUserStreamDataSource'},\n",
       "    {'level_name': 'WARNING',\n",
       "     'msg': 'binance_perpetual is not ready. Please wait...',\n",
       "     'timestamp': 1751497477.002437,\n",
       "     'level_no': 30,\n",
       "     'logger_name': 'hummingbot.strategy.script_strategy_base'},\n",
       "    {'level_name': 'WARNING',\n",
       "     'msg': 'binance_perpetual is not ready. Please wait...',\n",
       "     'timestamp': 1751497477.002437,\n",
       "     'level_no': 30,\n",
       "     'logger_name': 'hummingbot.strategy.script_strategy_base'},\n",
       "    {'level_name': 'INFO',\n",
       "     'msg': 'Subscribed to public order book, trade and funding info channels...',\n",
       "     'timestamp': 1751497484.2122371,\n",
       "     'level_no': 20,\n",
       "     'logger_name': 'hummingbot.connector.derivative.binance_perpetual.binance_perpetual_api_order_book_data_source.BinancePerpetualAPIOrderBookDataSource'},\n",
       "    {'level_name': 'INFO',\n",
       "     'msg': 'Subscribed to public order book, trade and funding info channels...',\n",
       "     'timestamp': 1751497484.2122371,\n",
       "     'level_no': 20,\n",
       "     'logger_name': 'hummingbot.connector.derivative.binance_perpetual.binance_perpetual_api_order_book_data_source.BinancePerpetualAPIOrderBookDataSource'}],\n",
       "   'recently_active': True,\n",
       "   'source': 'mqtt'}}}"
      ]
     },
     "execution_count": 5,
     "metadata": {},
     "output_type": "execute_result"
    }
   ],
   "execution_count": 5
  },
  {
   "metadata": {
    "ExecuteTime": {
     "end_time": "2025-07-02T23:08:19.617210Z",
     "start_time": "2025-07-02T23:08:19.603695Z"
    }
   },
   "cell_type": "code",
   "source": "await client.bot_orchestration.stop_and_archive_bot(\"test\")",
   "id": "f2862229c0b56873",
   "outputs": [
    {
     "data": {
      "text/plain": [
       "{'status': 'success',\n",
       " 'message': 'Stop and archive process started for bot test',\n",
       " 'details': {'input_name': 'test',\n",
       "  'actual_bot_name': 'test',\n",
       "  'container_name': 'test',\n",
       "  'process': 'The bot will be gracefully stopped, archived, and removed in the background. This process typically takes 20-30 seconds.'}}"
      ]
     },
     "execution_count": 6,
     "metadata": {},
     "output_type": "execute_result"
    }
   ],
   "execution_count": 6
  },
  {
   "metadata": {},
   "cell_type": "code",
   "outputs": [],
   "execution_count": null,
   "source": "",
   "id": "fbc40a805043bea2"
  }
 ],
 "metadata": {
  "kernelspec": {
   "display_name": "Python 3",
   "language": "python",
   "name": "python3"
  },
  "language_info": {
   "codemirror_mode": {
    "name": "ipython",
    "version": 2
   },
   "file_extension": ".py",
   "mimetype": "text/x-python",
   "name": "python",
   "nbconvert_exporter": "python",
   "pygments_lexer": "ipython2",
   "version": "2.7.6"
  }
 },
 "nbformat": 4,
 "nbformat_minor": 5
}
