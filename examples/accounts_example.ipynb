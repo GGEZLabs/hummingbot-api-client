{
 "cells": [
  {
   "metadata": {},
   "cell_type": "code",
   "source": [
    "from hummingbot_api_client import HummingbotAPIClient\n",
    "\n",
    "client = HummingbotAPIClient(base_url='http://localhost:8000')\n",
    "await client.init()"
   ],
   "id": "58c38f8097d6fecc",
   "outputs": [],
   "execution_count": null
  },
  {
   "metadata": {},
   "cell_type": "code",
   "source": "await client.accounts.list_accounts()",
   "id": "89bcd7c687d95c5f",
   "outputs": [],
   "execution_count": null
  },
  {
   "metadata": {},
   "cell_type": "code",
   "source": "await client.accounts.add_account(\"test_2\")",
   "id": "a18102d8f0194afc",
   "outputs": [],
   "execution_count": null
  },
  {
   "metadata": {},
   "cell_type": "code",
   "source": "await client.accounts.list_accounts()",
   "id": "bb77d2e6bb850b13",
   "outputs": [],
   "execution_count": null
  },
  {
   "metadata": {},
   "cell_type": "code",
   "source": "await client.connectors.get_config_map(\"binance\")",
   "id": "d15f60d8bbc70237",
   "outputs": [],
   "execution_count": null
  },
  {
   "metadata": {},
   "cell_type": "code",
   "source": [
    "await client.accounts.add_credential(\n",
    "    account_name=\"master_account\",\n",
    "    connector_name=\"binance\",\n",
    "    credentials={\n",
    "        \"binance_api_key\": \"J3AAoihWLaqdrbV6BRHjr0boDxMXOxGmsJML9G8LSSOWmUOCzszJACq0QFDK3Qz1\",\n",
    "        \"binance_api_secret\": \"no0f10KwopivisoTN3rYjtxADkDvzp1ItoADYcxByYxKk1UG07arjrEOy70Vy23k\"\n",
    "    }\n",
    ")"
   ],
   "id": "fd424fe85444652c",
   "outputs": [],
   "execution_count": null
  },
  {
   "metadata": {},
   "cell_type": "code",
   "source": "await client.accounts.list_account_credentials(account_name=\"master_account\")",
   "id": "245d00f82f288b88",
   "outputs": [],
   "execution_count": null
  },
  {
   "metadata": {},
   "cell_type": "code",
   "source": "await client.accounts.delete_account(\"test_2\")",
   "id": "8e8314676579bfc8",
   "outputs": [],
   "execution_count": null
  },
  {
   "metadata": {},
   "cell_type": "code",
   "source": "await client.accounts.list_accounts()",
   "id": "1d6a8b6b62e513d8",
   "outputs": [],
   "execution_count": null
  },
  {
   "metadata": {},
   "cell_type": "code",
   "source": "",
   "id": "a1cbc9462eee3aaf",
   "outputs": [],
   "execution_count": null
  }
 ],
 "metadata": {},
 "nbformat": 4,
 "nbformat_minor": 5
}
