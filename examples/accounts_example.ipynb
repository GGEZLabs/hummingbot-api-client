{
 "cells": [
  {
   "metadata": {
    "ExecuteTime": {
     "end_time": "2025-07-02T17:54:08.119782Z",
     "start_time": "2025-07-02T17:54:08.066657Z"
    }
   },
   "cell_type": "code",
   "source": [
    "from hummingbot_api_client import HummingbotAPIClient\n",
    "client = HummingbotAPIClient(base_url='http://localhost:8000')\n",
    "await client.init()"
   ],
   "id": "58c38f8097d6fecc",
   "outputs": [],
   "execution_count": 1
  },
  {
   "metadata": {
    "ExecuteTime": {
     "end_time": "2025-07-02T17:54:08.238565Z",
     "start_time": "2025-07-02T17:54:08.236614Z"
    }
   },
   "cell_type": "code",
   "source": "",
   "id": "2a9b54912f2d125d",
   "outputs": [],
   "execution_count": 2
  },
  {
   "metadata": {
    "ExecuteTime": {
     "end_time": "2025-07-02T17:53:48.221250Z",
     "start_time": "2025-07-02T17:53:48.212917Z"
    }
   },
   "cell_type": "code",
   "source": "await client.accounts.list_accounts()",
   "id": "89bcd7c687d95c5f",
   "outputs": [
    {
     "data": {
      "text/plain": [
       "['master_account']"
      ]
     },
     "execution_count": 3,
     "metadata": {},
     "output_type": "execute_result"
    }
   ],
   "execution_count": 3
  },
  {
   "metadata": {
    "ExecuteTime": {
     "end_time": "2025-07-02T17:53:48.241096Z",
     "start_time": "2025-07-02T17:53:48.232784Z"
    }
   },
   "cell_type": "code",
   "source": "await client.accounts.add_account(\"test_2\")",
   "id": "a18102d8f0194afc",
   "outputs": [
    {
     "data": {
      "text/plain": [
       "{'message': 'Account added successfully.'}"
      ]
     },
     "execution_count": 4,
     "metadata": {},
     "output_type": "execute_result"
    }
   ],
   "execution_count": 4
  },
  {
   "metadata": {
    "ExecuteTime": {
     "end_time": "2025-07-02T17:53:48.261915Z",
     "start_time": "2025-07-02T17:53:48.255587Z"
    }
   },
   "cell_type": "code",
   "source": "await client.accounts.list_accounts()",
   "id": "bb77d2e6bb850b13",
   "outputs": [
    {
     "data": {
      "text/plain": [
       "['master_account', 'test_2']"
      ]
     },
     "execution_count": 5,
     "metadata": {},
     "output_type": "execute_result"
    }
   ],
   "execution_count": 5
  },
  {
   "metadata": {
    "ExecuteTime": {
     "end_time": "2025-07-02T17:53:48.280491Z",
     "start_time": "2025-07-02T17:53:48.273984Z"
    }
   },
   "cell_type": "code",
   "source": "await client.connectors.get_config_map(\"binance\")",
   "id": "d15f60d8bbc70237",
   "outputs": [
    {
     "data": {
      "text/plain": [
       "['binance_api_key', 'binance_api_secret']"
      ]
     },
     "execution_count": 6,
     "metadata": {},
     "output_type": "execute_result"
    }
   ],
   "execution_count": 6
  },
  {
   "metadata": {
    "ExecuteTime": {
     "start_time": "2025-07-02T17:53:48.292825Z"
    }
   },
   "cell_type": "code",
   "source": [
    "await client.accounts.add_credential(\n",
    "    account_name=\"test_2\",\n",
    "    connector_name=\"binance\",\n",
    "    credentials={\n",
    "        \"binance_api_key\": \"your_api_key\",\n",
    "        \"binance_api_secret\": \"your_secret_key\"\n",
    "    }\n",
    ")"
   ],
   "id": "fd424fe85444652c",
   "outputs": [],
   "execution_count": null
  },
  {
   "metadata": {
    "ExecuteTime": {
     "end_time": "2025-07-02T17:53:49.575721Z",
     "start_time": "2025-07-02T17:52:51.759418Z"
    }
   },
   "cell_type": "code",
   "source": "await client.accounts.list_account_credentials(account_name=\"test_2\")",
   "id": "245d00f82f288b88",
   "outputs": [
    {
     "data": {
      "text/plain": [
       "['binance']"
      ]
     },
     "execution_count": 9,
     "metadata": {},
     "output_type": "execute_result"
    }
   ],
   "execution_count": 9
  },
  {
   "metadata": {
    "ExecuteTime": {
     "end_time": "2025-07-02T17:54:12.349036Z",
     "start_time": "2025-07-02T17:54:12.335541Z"
    }
   },
   "cell_type": "code",
   "source": "await client.accounts.delete_account(\"test_2\")",
   "id": "8e8314676579bfc8",
   "outputs": [
    {
     "data": {
      "text/plain": [
       "{'message': 'Account deleted successfully.'}"
      ]
     },
     "execution_count": 3,
     "metadata": {},
     "output_type": "execute_result"
    }
   ],
   "execution_count": 3
  },
  {
   "metadata": {
    "ExecuteTime": {
     "end_time": "2025-07-02T17:54:13.094607Z",
     "start_time": "2025-07-02T17:54:13.085219Z"
    }
   },
   "cell_type": "code",
   "source": "await client.accounts.list_accounts()",
   "id": "1d6a8b6b62e513d8",
   "outputs": [
    {
     "data": {
      "text/plain": [
       "['master_account']"
      ]
     },
     "execution_count": 4,
     "metadata": {},
     "output_type": "execute_result"
    }
   ],
   "execution_count": 4
  },
  {
   "metadata": {},
   "cell_type": "code",
   "outputs": [],
   "execution_count": null,
   "source": "",
   "id": "a1cbc9462eee3aaf"
  }
 ],
 "metadata": {},
 "nbformat": 4,
 "nbformat_minor": 5
}
